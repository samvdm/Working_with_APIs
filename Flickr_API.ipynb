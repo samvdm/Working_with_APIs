{
 "cells": [
  {
   "cell_type": "code",
   "execution_count": 10,
   "metadata": {},
   "outputs": [],
   "source": [
    "import json\n",
    "import requests"
   ]
  },
  {
   "cell_type": "code",
   "execution_count": 41,
   "metadata": {},
   "outputs": [],
   "source": [
    "#flicktr.photos.search\n",
    "#gets first 10 searches of photos containing the tag river\n",
    "tag_string = \"amsterdam\"\n",
    "baseurl = \"https://api.flickr.com/services/rest/\"\n",
    "api_key = \"yourAPIKey\"\n",
    "params = {\"tags\": tag_string, \"api_key\": api_key, \"tag_mode\": \"all\",\n",
    "          \"method\": \"flickr.photos.search\", \"per_page\": \"10\", \"media\": \"photos\", \"format\": \"json\", \"nojsoncallback\": \"1\"}\n",
    "flickr_resp = requests.get(baseurl, params = params)"
   ]
  },
  {
   "cell_type": "code",
   "execution_count": 42,
   "metadata": {},
   "outputs": [],
   "source": [
    "flickr_resp = flickr_resp.json()"
   ]
  },
  {
   "cell_type": "code",
   "execution_count": 43,
   "metadata": {},
   "outputs": [
    {
     "data": {
      "text/plain": [
       "[{'id': '48535027907',\n",
       "  'owner': '161918542@N07',\n",
       "  'secret': 'f7122c2f10',\n",
       "  'server': '65535',\n",
       "  'farm': 66,\n",
       "  'title': 'AJAX 3:2 PAOK  13.08.2019 F-Side & Gate 4 Madness',\n",
       "  'ispublic': 1,\n",
       "  'isfriend': 0,\n",
       "  'isfamily': 0},\n",
       " {'id': '48534910367',\n",
       "  'owner': '64472650@N05',\n",
       "  'secret': '026722f6fe',\n",
       "  'server': '65535',\n",
       "  'farm': 66,\n",
       "  'title': 'First Light',\n",
       "  'ispublic': 1,\n",
       "  'isfriend': 0,\n",
       "  'isfamily': 0},\n",
       " {'id': '48534682136',\n",
       "  'owner': '88013918@N06',\n",
       "  'secret': '3552211fa2',\n",
       "  'server': '65535',\n",
       "  'farm': 66,\n",
       "  'title': 'Je kan het dak op',\n",
       "  'ispublic': 1,\n",
       "  'isfriend': 0,\n",
       "  'isfamily': 0},\n",
       " {'id': '48534681201',\n",
       "  'owner': '88013918@N06',\n",
       "  'secret': 'bef3e697bb',\n",
       "  'server': '65535',\n",
       "  'farm': 66,\n",
       "  'title': 'Men at Work',\n",
       "  'ispublic': 1,\n",
       "  'isfriend': 0,\n",
       "  'isfamily': 0},\n",
       " {'id': '48534855147',\n",
       "  'owner': '85792096@N06',\n",
       "  'secret': '292a836437',\n",
       "  'server': '65535',\n",
       "  'farm': 66,\n",
       "  'title': 'American Airlines | N791AN | Boeing 777-200',\n",
       "  'ispublic': 1,\n",
       "  'isfriend': 0,\n",
       "  'isfamily': 0},\n",
       " {'id': '48534661332',\n",
       "  'owner': '151397551@N04',\n",
       "  'secret': 'b7244ed26b',\n",
       "  'server': '65535',\n",
       "  'farm': 66,\n",
       "  'title': 'Houseboat - Amsterdam',\n",
       "  'ispublic': 1,\n",
       "  'isfriend': 0,\n",
       "  'isfamily': 0},\n",
       " {'id': '48534436052',\n",
       "  'owner': '143381847@N05',\n",
       "  'secret': '54a07120a6',\n",
       "  'server': '65535',\n",
       "  'farm': 66,\n",
       "  'title': 'Tweede Egelantiersdwarsstraat 7-8-19',\n",
       "  'ispublic': 1,\n",
       "  'isfriend': 0,\n",
       "  'isfamily': 0},\n",
       " {'id': '48534435997',\n",
       "  'owner': '143381847@N05',\n",
       "  'secret': 'd288971ee8',\n",
       "  'server': '65535',\n",
       "  'farm': 66,\n",
       "  'title': 'Tweede Egelantiersdwarsstraat 7-8-19',\n",
       "  'ispublic': 1,\n",
       "  'isfriend': 0,\n",
       "  'isfamily': 0},\n",
       " {'id': '48534435927',\n",
       "  'owner': '143381847@N05',\n",
       "  'secret': '81f5e3b51b',\n",
       "  'server': '65535',\n",
       "  'farm': 66,\n",
       "  'title': 'Egelantiersgracht 7-8-29',\n",
       "  'ispublic': 1,\n",
       "  'isfriend': 0,\n",
       "  'isfamily': 0},\n",
       " {'id': '48533010987',\n",
       "  'owner': '58753801@N00',\n",
       "  'secret': 'ea0aafeb80',\n",
       "  'server': '65535',\n",
       "  'farm': 66,\n",
       "  'title': '',\n",
       "  'ispublic': 1,\n",
       "  'isfriend': 0,\n",
       "  'isfamily': 0}]"
      ]
     },
     "execution_count": 43,
     "metadata": {},
     "output_type": "execute_result"
    }
   ],
   "source": [
    "flickr_resp['photos']['photo']"
   ]
  },
  {
   "cell_type": "code",
   "execution_count": 44,
   "metadata": {},
   "outputs": [],
   "source": [
    "title  = [r['title'] for r in flickr_resp['photos']['photo']]"
   ]
  },
  {
   "cell_type": "code",
   "execution_count": 45,
   "metadata": {},
   "outputs": [
    {
     "data": {
      "text/plain": [
       "10"
      ]
     },
     "execution_count": 45,
     "metadata": {},
     "output_type": "execute_result"
    }
   ],
   "source": [
    "len(title)"
   ]
  },
  {
   "cell_type": "code",
   "execution_count": 46,
   "metadata": {},
   "outputs": [
    {
     "name": "stdout",
     "output_type": "stream",
     "text": [
      "['AJAX 3:2 PAOK  13.08.2019 F-Side & Gate 4 Madness', 'First Light', 'Je kan het dak op', 'Men at Work', 'American Airlines | N791AN | Boeing 777-200', 'Houseboat - Amsterdam', 'Tweede Egelantiersdwarsstraat 7-8-19', 'Tweede Egelantiersdwarsstraat 7-8-19', 'Egelantiersgracht 7-8-29', '']\n"
     ]
    }
   ],
   "source": [
    "print(title)"
   ]
  },
  {
   "cell_type": "code",
   "execution_count": 47,
   "metadata": {},
   "outputs": [
    {
     "name": "stdout",
     "output_type": "stream",
     "text": [
      "https://www.flickr.com/photos/161918542@N07/48535027907\n",
      "https://www.flickr.com/photos/64472650@N05/48534910367\n",
      "https://www.flickr.com/photos/88013918@N06/48534682136\n",
      "https://www.flickr.com/photos/88013918@N06/48534681201\n",
      "https://www.flickr.com/photos/85792096@N06/48534855147\n",
      "https://www.flickr.com/photos/151397551@N04/48534661332\n",
      "https://www.flickr.com/photos/143381847@N05/48534436052\n",
      "https://www.flickr.com/photos/143381847@N05/48534435997\n",
      "https://www.flickr.com/photos/143381847@N05/48534435927\n",
      "https://www.flickr.com/photos/58753801@N00/48533010987\n"
     ]
    }
   ],
   "source": [
    "#to open photos tagged with river\n",
    "photos = flickr_resp['photos']['photo']\n",
    "for photo in photos:\n",
    "    owner = photo['owner']\n",
    "    photo_id = photo['id']\n",
    "    url = 'https://www.flickr.com/photos/{}/{}'.format(owner, photo_id)\n",
    "    print(url)"
   ]
  },
  {
   "cell_type": "code",
   "execution_count": null,
   "metadata": {},
   "outputs": [],
   "source": []
  }
 ],
 "metadata": {
  "kernelspec": {
   "display_name": "Python 3",
   "language": "python",
   "name": "python3"
  },
  "language_info": {
   "codemirror_mode": {
    "name": "ipython",
    "version": 3
   },
   "file_extension": ".py",
   "mimetype": "text/x-python",
   "name": "python",
   "nbconvert_exporter": "python",
   "pygments_lexer": "ipython3",
   "version": "3.7.4"
  }
 },
 "nbformat": 4,
 "nbformat_minor": 2
}
