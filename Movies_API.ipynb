{
 "cells": [
  {
   "cell_type": "code",
   "execution_count": 1,
   "metadata": {},
   "outputs": [],
   "source": [
    "import json\n",
    "import requests"
   ]
  },
  {
   "cell_type": "code",
   "execution_count": 19,
   "metadata": {},
   "outputs": [],
   "source": [
    "base_url = \"https://tastedive.com/api/similar\"\n",
    "query = \"Black Panther\"\n",
    "params = {\"q\": query, \"type\": \"movies\", \"limit\": \"5\"}\n",
    "movies_res = requests.get(base_url, params)"
   ]
  },
  {
   "cell_type": "code",
   "execution_count": 22,
   "metadata": {},
   "outputs": [],
   "source": [
    "movies = movies_res.json()"
   ]
  },
  {
   "cell_type": "code",
   "execution_count": 27,
   "metadata": {},
   "outputs": [
    {
     "data": {
      "text/plain": [
       "['Captain Marvel',\n",
       " 'Avengers: Infinity War',\n",
       " 'Ant-Man And The Wasp',\n",
       " 'Deadpool 2',\n",
       " 'Solo: A Star Wars Story']"
      ]
     },
     "execution_count": 27,
     "metadata": {},
     "output_type": "execute_result"
    }
   ],
   "source": [
    "[m['Name'] for m in movies['Similar']['Results']]"
   ]
  },
  {
   "cell_type": "code",
   "execution_count": 28,
   "metadata": {},
   "outputs": [],
   "source": [
    "def get_movies_from_tastedive(movie):\n",
    "    base_url = \"https://tastedive.com/api/similar\"\n",
    "    params = {\"q\": movie, \"type\": \"movies\", \"limit\": \"5\"}\n",
    "    movies_res = requests.get(base_url, params)\n",
    "    movies = movies_res.json()\n",
    "    return movies"
   ]
  },
  {
   "cell_type": "code",
   "execution_count": 33,
   "metadata": {},
   "outputs": [],
   "source": [
    "def extract_movie_titles(string):\n",
    "    names = [m['Name'] for m in string['Similar']['Results']]\n",
    "    return names"
   ]
  },
  {
   "cell_type": "code",
   "execution_count": 106,
   "metadata": {},
   "outputs": [],
   "source": [
    "# get_related_titles([\"Black Panther\", \"Captain Marvel\"])\n",
    "movies = [\"Black Panther\", \"Captain Marvel\"]\n",
    "\n",
    "def get_related_titles(movies):\n",
    "    mylist = []\n",
    "    for movie in movies:\n",
    "        t = extract_movie_titles(get_movies_from_tastedive(movie))\n",
    "        for item in t:\n",
    "            if item not in mylist:\n",
    "                mylist.append(item)\n",
    "    return(mylist)\n"
   ]
  },
  {
   "cell_type": "code",
   "execution_count": 145,
   "metadata": {},
   "outputs": [],
   "source": [
    "query = \"Black Panther\"\n",
    "def get_movie_data(t):\n",
    "    baseurl = \"http://www.omdbapi.com/\"\n",
    "    params_diction = {}\n",
    "    params_diction[\"t\"] = t\n",
    "    params_diction[\"r\"] = \"json\"\n",
    "    params_diction[\"apikey\"] = \"db43e62f\"\n",
    "    omdb = requests.get(baseurl, params = params_diction)\n",
    "\n",
    "    #print(omdb.url)\n",
    "    x = omdb.json()\n",
    "    #print(json.dumps(x, indent=2))\n",
    "    return omdb.json()\n",
    "    "
   ]
  },
  {
   "cell_type": "code",
   "execution_count": 251,
   "metadata": {},
   "outputs": [],
   "source": [
    "def get_movie_rating(dat):\n",
    "    s = [k['Source'] for k in dat['Ratings']]\n",
    "    if'Rotten Tomatoes' in s:\n",
    "        z = \"\".join([d['Value'] for d in dat['Ratings'] if d['Source'] == \"Rotten Tomatoes\"])\n",
    "        return int(z.replace(\"%\",\"\"))\n",
    "    else:\n",
    "            return int(0)"
   ]
  },
  {
   "cell_type": "code",
   "execution_count": null,
   "metadata": {},
   "outputs": [],
   "source": [
    "def get_sorted_recommendations(movies):\n",
    "    #get related movies\n",
    "    similar = get_related_titles(movies)\n",
    "    mov_dat = {} #initialize dictionary\n",
    "    for movie in similar:\n",
    "        dt = get_movie_rating(get_movie_data(similar))\n",
    "        mov_dat[movie] = dt #assign movie to rating\n",
    "    #sort the dictionary by rating in decending order then alphabetically\n",
    "    movies = list(mov_dat.keys())\n",
    "    new_order = sorted(movies, key = lambda x: (mov_dat[x], x)\n",
    "    return new order"
   ]
  }
 ],
 "metadata": {
  "kernelspec": {
   "display_name": "Python 3",
   "language": "python",
   "name": "python3"
  },
  "language_info": {
   "codemirror_mode": {
    "name": "ipython",
    "version": 3
   },
   "file_extension": ".py",
   "mimetype": "text/x-python",
   "name": "python",
   "nbconvert_exporter": "python",
   "pygments_lexer": "ipython3",
   "version": "3.6.7"
  }
 },
 "nbformat": 4,
 "nbformat_minor": 2
}
