{
 "cells": [
  {
   "cell_type": "code",
   "execution_count": 1,
   "metadata": {},
   "outputs": [],
   "source": [
    "import json\n",
    "import requests\n"
   ]
  },
  {
   "cell_type": "code",
   "execution_count": 33,
   "metadata": {},
   "outputs": [],
   "source": [
    "base_url = \"https://maps.googleapis.com/maps/api/geocode/json?\"\n",
    "api_key = \"yourapikey\"\n",
    "place = \"ree7\"\n",
    "params = {\"key\": api_key, \"address\": place, \"inputtype\":  \"textquery\", \"fields\": \"photos\"}\n",
    "gplaces = requests.get(base_url, params = params)"
   ]
  },
  {
   "cell_type": "code",
   "execution_count": 35,
   "metadata": {},
   "outputs": [],
   "source": [
    "#remember to enable project for Geocoding\n",
    "res = gplaces.json()"
   ]
  },
  {
   "cell_type": "code",
   "execution_count": 45,
   "metadata": {},
   "outputs": [],
   "source": [
    "address_components = [r['address_components'] for r in res['results']]"
   ]
  },
  {
   "cell_type": "code",
   "execution_count": 57,
   "metadata": {},
   "outputs": [
    {
     "data": {
      "text/plain": [
       "[['street_number'],\n",
       " ['route'],\n",
       " ['political', 'sublocality', 'sublocality_level_1'],\n",
       " ['locality', 'political'],\n",
       " ['administrative_area_level_2', 'political'],\n",
       " ['administrative_area_level_1', 'political'],\n",
       " ['country', 'political'],\n",
       " ['postal_code']]"
      ]
     },
     "execution_count": 57,
     "metadata": {},
     "output_type": "execute_result"
    }
   ],
   "source": [
    "[ad['types'] for ad in address_components[0]]"
   ]
  },
  {
   "cell_type": "code",
   "execution_count": 58,
   "metadata": {},
   "outputs": [
    {
     "data": {
      "text/plain": [
       "['7',\n",
       " 'Reestraat',\n",
       " 'Amsterdam-Centrum',\n",
       " 'Amsterdam',\n",
       " 'Amsterdam',\n",
       " 'Noord-Holland',\n",
       " 'Netherlands',\n",
       " '1016 DM']"
      ]
     },
     "execution_count": 58,
     "metadata": {},
     "output_type": "execute_result"
    }
   ],
   "source": [
    "[ad['long_name'] for ad in address_components[0]]"
   ]
  },
  {
   "cell_type": "code",
   "execution_count": 59,
   "metadata": {},
   "outputs": [
    {
     "data": {
      "text/plain": [
       "[{'long_name': '7', 'short_name': '7', 'types': ['street_number']},\n",
       " {'long_name': 'Reestraat', 'short_name': 'Reestraat', 'types': ['route']},\n",
       " {'long_name': 'Amsterdam-Centrum',\n",
       "  'short_name': 'Amsterdam-Centrum',\n",
       "  'types': ['political', 'sublocality', 'sublocality_level_1']},\n",
       " {'long_name': 'Amsterdam',\n",
       "  'short_name': 'Amsterdam',\n",
       "  'types': ['locality', 'political']},\n",
       " {'long_name': 'Amsterdam',\n",
       "  'short_name': 'Amsterdam',\n",
       "  'types': ['administrative_area_level_2', 'political']},\n",
       " {'long_name': 'Noord-Holland',\n",
       "  'short_name': 'NH',\n",
       "  'types': ['administrative_area_level_1', 'political']},\n",
       " {'long_name': 'Netherlands',\n",
       "  'short_name': 'NL',\n",
       "  'types': ['country', 'political']},\n",
       " {'long_name': '1016 DM', 'short_name': '1016 DM', 'types': ['postal_code']}]"
      ]
     },
     "execution_count": 59,
     "metadata": {},
     "output_type": "execute_result"
    }
   ],
   "source": [
    "address_components[0]"
   ]
  }
 ],
 "metadata": {
  "kernelspec": {
   "display_name": "Python 3",
   "language": "python",
   "name": "python3"
  },
  "language_info": {
   "codemirror_mode": {
    "name": "ipython",
    "version": 3
   },
   "file_extension": ".py",
   "mimetype": "text/x-python",
   "name": "python",
   "nbconvert_exporter": "python",
   "pygments_lexer": "ipython3",
   "version": "3.6.7"
  }
 },
 "nbformat": 4,
 "nbformat_minor": 2
}
